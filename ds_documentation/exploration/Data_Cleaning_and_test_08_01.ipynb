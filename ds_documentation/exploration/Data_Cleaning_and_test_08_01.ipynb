{
 "cells": [
  {
   "cell_type": "markdown",
   "id": "_yzLushd140O",
   "metadata": {
    "id": "_yzLushd140O"
   },
   "source": [
    "  ## Libraries"
   ]
  },
  {
   "cell_type": "code",
   "execution_count": 1,
   "id": "F8fYUs0gi-sI",
   "metadata": {
    "id": "F8fYUs0gi-sI"
   },
   "outputs": [],
   "source": [
    "# IMPORT THESE FIRST.\n",
    "import numpy as np\n",
    "import pandas as pd\n",
    "from sklearn.preprocessing import MinMaxScaler"
   ]
  },
  {
   "cell_type": "markdown",
   "id": "at4h44t3Q5PD",
   "metadata": {
    "id": "at4h44t3Q5PD"
   },
   "source": [
    "Load the raw data"
   ]
  },
  {
   "cell_type": "code",
   "execution_count": 18,
   "id": "9d36cdad",
   "metadata": {
    "id": "9d36cdad"
   },
   "outputs": [],
   "source": [
    "df = pd.read_excel(\"https://github.com/TechLabs-Berlin/wt21-pet-match/blob/4fcd2ffa01646975193f18fe8703a3debb14c136/ds_documentation/data_set/pet-set.xlsx?raw=true\")\n",
    "#df.head(2)"
   ]
  },
  {
   "cell_type": "markdown",
   "id": "68b5f4ad",
   "metadata": {
    "id": "68b5f4ad"
   },
   "source": [
    "# Aggregating a variable discribing the satisfaction level in percentage"
   ]
  },
  {
   "cell_type": "code",
   "execution_count": 19,
   "id": "1beacb32",
   "metadata": {
    "colab": {
     "base_uri": "https://localhost:8080/"
    },
    "id": "1beacb32",
    "outputId": "927bf9d5-1303-42bb-bcad-83c58031e1d4"
   },
   "outputs": [
    {
     "data": {
      "text/plain": [
       "1.00    1940\n",
       "0.95     491\n",
       "0.90     286\n",
       "0.85     250\n",
       "0.80     133\n",
       "0.75      62\n",
       "0.70      38\n",
       "0.65      13\n",
       "0.60      12\n",
       "0.55       8\n",
       "0.40       5\n",
       "0.50       5\n",
       "0.35       2\n",
       "0.45       2\n",
       "0.25       1\n",
       "Name: satisf_level, dtype: int64"
      ]
     },
     "execution_count": 19,
     "metadata": {},
     "output_type": "execute_result"
    }
   ],
   "source": [
    "# replacing strings with numerical values\n",
    "df['expectations'] = df['My cat has met all my expectations'].replace({'Strongly agree': 5, 'Agree': 4, 'Neither agree nor disagree': 3, 'Disagree': 2, 'Strongly disagree': 1})\n",
    "df['happy_owner'] = df['I am happy with my cat'].replace({'Strongly agree': 5, 'Agree': 4, 'Neither agree nor disagree': 3, 'Disagree': 2, 'Strongly disagree': 1})\n",
    "df['happy_cat'] = df['I feel my cat is happy living with me'].replace({'Strongly agree': 5, 'Agree': 4, 'Neither agree nor disagree': 3, 'Disagree': 2, 'Strongly disagree': 1})\n",
    "df['rehome'] = df['I have considered relinquishing or rehoming this cat to someone else'].replace({'Strongly agree': 1, 'Agree': 2, 'Neither agree nor disagree': 3, 'Disagree': 4, 'Strongly disagree': 5})\n",
    "\n",
    "# aggregating final score\n",
    "df['satisf_level'] = (df['expectations'] + df['happy_owner'] + df['happy_cat'] + df['rehome'])/20\n",
    "\n",
    "df['satisf_level'].value_counts()"
   ]
  },
  {
   "cell_type": "markdown",
   "id": "kZinhKrhsjnw",
   "metadata": {
    "id": "kZinhKrhsjnw"
   },
   "source": [
    "# Adopters - cleaning and standardizing the data"
   ]
  },
  {
   "cell_type": "code",
   "execution_count": 20,
   "id": "s-n7xs0iUXcI",
   "metadata": {
    "id": "s-n7xs0iUXcI"
   },
   "outputs": [],
   "source": [
    "# returns an indexed list of all columns in initial data frame\n",
    "\n",
    "# i = 0\n",
    "# for col_name in df.columns:\n",
    "#   print(i, col_name)\n",
    "#   i += 1"
   ]
  },
  {
   "cell_type": "markdown",
   "id": "0ZuO_HdltN8f",
   "metadata": {
    "id": "0ZuO_HdltN8f"
   },
   "source": [
    "### manually defining the variables we will use\n",
    "See questionaire on Notion: [link text](https://www.notion.so/pet-match/Questions-dee1a76f4af04514a7ad63592773018b)"
   ]
  },
  {
   "cell_type": "code",
   "execution_count": 21,
   "id": "lK3gWseGVUa1",
   "metadata": {
    "id": "lK3gWseGVUa1"
   },
   "outputs": [],
   "source": [
    "columns_to_retain_adopters = [58,59,60,8,79,99,94,61,96,66,65,90,80,97,77,92,63,83,93]\n",
    "adopters = df.iloc[:, columns_to_retain_adopters]\n",
    "#adopters.info()"
   ]
  },
  {
   "cell_type": "code",
   "execution_count": 22,
   "id": "81HfTf58m3o6",
   "metadata": {
    "id": "81HfTf58m3o6"
   },
   "outputs": [],
   "source": [
    "# df"
   ]
  },
  {
   "cell_type": "markdown",
   "id": "nn1e_uhLtiBC",
   "metadata": {
    "id": "nn1e_uhLtiBC"
   },
   "source": [
    "### replacing the string values"
   ]
  },
  {
   "cell_type": "code",
   "execution_count": 23,
   "id": "ceb775e4",
   "metadata": {
    "colab": {
     "base_uri": "https://localhost:8080/"
    },
    "id": "ceb775e4",
    "outputId": "55f79a9f-5812-4041-9f28-4798f6b9d912"
   },
   "outputs": [
    {
     "name": "stderr",
     "output_type": "stream",
     "text": [
      "/home/omaistat/anaconda3/lib/python3.8/site-packages/pandas/core/frame.py:5238: SettingWithCopyWarning: \n",
      "A value is trying to be set on a copy of a slice from a DataFrame\n",
      "\n",
      "See the caveats in the documentation: https://pandas.pydata.org/pandas-docs/stable/user_guide/indexing.html#returning-a-view-versus-a-copy\n",
      "  return super().replace(\n",
      "/home/omaistat/anaconda3/lib/python3.8/site-packages/pandas/core/frame.py:5176: SettingWithCopyWarning: \n",
      "A value is trying to be set on a copy of a slice from a DataFrame\n",
      "\n",
      "See the caveats in the documentation: https://pandas.pydata.org/pandas-docs/stable/user_guide/indexing.html#returning-a-view-versus-a-copy\n",
      "  return super().fillna(\n"
     ]
    }
   ],
   "source": [
    "# remove the NaN , they are text here\n",
    "adopters.replace(\"NaN\",np.nan, inplace =True)\n",
    "adopters.fillna(0,inplace=True)\n",
    "\n",
    "# translationg into numeric values\n",
    "# be careful, it will throw an error if you run this block for the second time\n",
    "# Zeros reserved for NaN and missing values\n",
    "adopters = adopters.replace({'Agree strongly': 5, \n",
    "                  'Agree a little': 4, \n",
    "                  'Neither agree nor disagree': 3, \n",
    "                  'Disagree a little': 2, \n",
    "                  'Disagree strongly': 1, \n",
    "                  'Yes': 2, \n",
    "                  'No': 1, \n",
    "                  'Male': 1, \n",
    "                  'Female': 2,\n",
    "                  'Prefer not to say': 0, \n",
    "                  '18-24': 1,\n",
    "                  '25-34': 2,\n",
    "                  '35-44': 3,\n",
    "                  '45-54': 4,\n",
    "                  '55-64': 5,\n",
    "                  '65 and over': 6})"
   ]
  },
  {
   "cell_type": "markdown",
   "id": "A8eS7IkEp3Fe",
   "metadata": {
    "id": "A8eS7IkEp3Fe"
   },
   "source": [
    "## Scale the data to fit between Zero and One"
   ]
  },
  {
   "cell_type": "code",
   "execution_count": 24,
   "id": "kBq4jgM4Y82c",
   "metadata": {
    "id": "kBq4jgM4Y82c"
   },
   "outputs": [],
   "source": [
    "scaler_adopters = MinMaxScaler()\n",
    "adopters_scaled = scaler_adopters.fit_transform(adopters)"
   ]
  },
  {
   "cell_type": "markdown",
   "id": "VdFhCtmHqDxp",
   "metadata": {
    "id": "VdFhCtmHqDxp"
   },
   "source": [
    "## Renaming the columns to more readable"
   ]
  },
  {
   "cell_type": "code",
   "execution_count": 25,
   "id": "28NpQQajbeIB",
   "metadata": {
    "id": "28NpQQajbeIB"
   },
   "outputs": [],
   "source": [
    "adopters_scaled_df = pd.DataFrame(adopters_scaled, columns = ['adopter_gender', \n",
    "                   'adopter_age', \n",
    "                   'other_cats', \n",
    "                   'outdoor_access', \n",
    "                   'worries', \n",
    "                   'easily_nervous',\n",
    "                   'remains_calm',\n",
    "                   'talkative', \n",
    "                   'outgoing',\n",
    "                   'reserved', \n",
    "                   'new_ideas',\n",
    "                   'values_artistic',\n",
    "                   'active_imagination', \n",
    "                   'rude', \n",
    "                   'forgiving',\n",
    "                   'considerate', \n",
    "                   'thorough job', \n",
    "                   'lazy', \n",
    "                   'efficient'])"
   ]
  },
  {
   "cell_type": "markdown",
   "id": "71Mdxk5AuE0C",
   "metadata": {
    "id": "71Mdxk5AuE0C"
   },
   "source": [
    "### returns the standardized and cleaned data on adopters"
   ]
  },
  {
   "cell_type": "code",
   "execution_count": 26,
   "id": "X6wvYXwwb-lC",
   "metadata": {
    "id": "X6wvYXwwb-lC"
   },
   "outputs": [],
   "source": [
    "#adopters_scaled_df"
   ]
  },
  {
   "cell_type": "markdown",
   "id": "2PmIax05Z1nH",
   "metadata": {
    "id": "2PmIax05Z1nH"
   },
   "source": [
    "# Cats"
   ]
  },
  {
   "cell_type": "code",
   "execution_count": 27,
   "id": "BsUtJOCSIots",
   "metadata": {
    "id": "BsUtJOCSIots"
   },
   "outputs": [],
   "source": [
    "cats_raw = df.iloc[:, : 54]\n",
    "cats_raw = cats_raw.iloc[:, [0,2,7,8,11,14,24,26,27,28,41,42,33,43,44,45,46,52,53]]"
   ]
  },
  {
   "cell_type": "markdown",
   "id": "IbYjMBcqqOhF",
   "metadata": {
    "id": "IbYjMBcqqOhF"
   },
   "source": [
    "## Replacing the strings with numeric values"
   ]
  },
  {
   "cell_type": "code",
   "execution_count": 29,
   "id": "vMu5bjCJxNZk",
   "metadata": {
    "id": "vMu5bjCJxNZk"
   },
   "outputs": [],
   "source": [
    "# remove the NaN , they are text here\n",
    "cats_raw.replace(\"NaN\",np.nan, inplace =True)\n",
    "cats_raw.fillna(0,inplace=True)"
   ]
  },
  {
   "cell_type": "code",
   "execution_count": 30,
   "id": "lTBDEv2qIKDE",
   "metadata": {
    "id": "lTBDEv2qIKDE"
   },
   "outputs": [],
   "source": [
    "# NOT FINISHED, THERE MIGHT BE SOME OTHER VALUES THAT HAVE TO BE REPLACED\n",
    "cats_raw = cats_raw.replace({'Strongly disagree': 1, \n",
    "                  'Never': 1, \n",
    "                  'Disagree': 2, \n",
    "                  'Once': 2, \n",
    "                  'Neither agree nor disagree': 3, \n",
    "                  'Occasionally': 3, \n",
    "                  'Agree': 4, \n",
    "                  'Usually': 4, \n",
    "                  'Strongly agree': 5, \n",
    "                  'Always': 5,\n",
    "                  'Male': 1,\n",
    "                  'Female': 2,\n",
    "                  'No': 1,\n",
    "                  'Yes': 2,\n",
    "                  'Unsure': 0,\n",
    "                  'Very underweight': 1,\n",
    "                  'Underweight': 2,\n",
    "                  'Normal': 3,\n",
    "                  'Overweight': 4,\n",
    "                  'Very overweight': 5})"
   ]
  },
  {
   "cell_type": "markdown",
   "id": "iuSzbab2un9x",
   "metadata": {
    "id": "iuSzbab2un9x"
   },
   "source": [
    "### MinMaxScaler - needs to be adjusted for cats data"
   ]
  },
  {
   "cell_type": "code",
   "execution_count": 31,
   "id": "OdUzxoBbP82q",
   "metadata": {
    "id": "OdUzxoBbP82q"
   },
   "outputs": [],
   "source": [
    "cats_breed = cats_raw.iloc[:, 2]"
   ]
  },
  {
   "cell_type": "code",
   "execution_count": 32,
   "id": "oBikckWqunE4",
   "metadata": {
    "id": "oBikckWqunE4"
   },
   "outputs": [],
   "source": [
    "########\n",
    "# All the data should be numeric to be scaled, we need some idea for that\n",
    "# Here I transformed everything to numeric and scaled except breeds\n",
    "# one of the options - one hot encode for nominal values if there's no way to order them in numbers\n",
    "\n",
    "\n",
    "scaler_cats = MinMaxScaler()\n",
    "cats_scaled = scaler_cats.fit_transform(cats_raw.drop(columns = 'Other (please specify).1'))"
   ]
  },
  {
   "cell_type": "markdown",
   "id": "lzvK_1KovQXP",
   "metadata": {
    "id": "lzvK_1KovQXP"
   },
   "source": [
    "### Rename the columns for usability"
   ]
  },
  {
   "cell_type": "code",
   "execution_count": 33,
   "id": "zs9BS8TqvPzx",
   "metadata": {
    "id": "zs9BS8TqvPzx"
   },
   "outputs": [],
   "source": [
    "cats_scaled_df = pd.DataFrame(cats_scaled, columns = ['cat_age',\n",
    "                                                      'cat_gender',\n",
    "                                                      'needs_outdoor',\n",
    "                                                      'medical_conditions',\n",
    "                                                      'behavioural_problems',\n",
    "                                                      'cat_weight',\n",
    "                                                      'likes_to_explore',\n",
    "                                                      'playful',\n",
    "                                                      'vocal',\n",
    "                                                      'picked_up',\n",
    "                                                      'timid',\n",
    "                                                      'aggressive',\n",
    "                                                      'adapts_quickly',\n",
    "                                                      'prefers_alone',\n",
    "                                                      'likes_stroke',\n",
    "                                                      'tolerant_handled',\n",
    "                                                      'friendly',\n",
    "                                                      'fearful'\n",
    "])"
   ]
  },
  {
   "cell_type": "code",
   "execution_count": 34,
   "id": "mxRAv58-SPjm",
   "metadata": {
    "id": "mxRAv58-SPjm"
   },
   "outputs": [],
   "source": [
    "# cats_scaled_df"
   ]
  },
  {
   "cell_type": "code",
   "execution_count": 35,
   "id": "UFtgVpR_SVAD",
   "metadata": {
    "id": "UFtgVpR_SVAD"
   },
   "outputs": [],
   "source": [
    "# adding breed variable to the scaled data\n",
    "cats_scaled_breed = pd.concat([cats_scaled_df, cats_breed], axis = 1)\n",
    "cats_scaled_breed.rename(columns={'Other (please specify).1': 'breed'}, inplace = True)"
   ]
  },
  {
   "cell_type": "markdown",
   "id": "yhljHV35vdEx",
   "metadata": {
    "id": "yhljHV35vdEx"
   },
   "source": [
    "# Merge two datasets together + satisfaction level\n",
    "\n",
    "if everything goes well, after this step we are going to have a nice dataset to feed it to any algorithm!\n",
    "\n",
    "Howver, make sure you need/can use nominal values, there is one - breed, but you can replace the data set *cats_scaled_breed* with *cats_scaled_df* - last one is all scaled and numeric"
   ]
  },
  {
   "cell_type": "code",
   "execution_count": 36,
   "id": "enHBfpBFvcnm",
   "metadata": {
    "id": "enHBfpBFvcnm"
   },
   "outputs": [],
   "source": [
    "df_scaled = pd.concat([cats_scaled_breed, adopters_scaled_df, df[\"satisf_level\"]], axis=1)"
   ]
  },
  {
   "cell_type": "code",
   "execution_count": 37,
   "id": "BmvmqbGhTbq8",
   "metadata": {
    "colab": {
     "base_uri": "https://localhost:8080/",
     "height": 534
    },
    "id": "BmvmqbGhTbq8",
    "outputId": "63964ee9-bb1c-4f81-aa80-c0f4848e4715"
   },
   "outputs": [
    {
     "data": {
      "text/html": [
       "<div>\n",
       "<style scoped>\n",
       "    .dataframe tbody tr th:only-of-type {\n",
       "        vertical-align: middle;\n",
       "    }\n",
       "\n",
       "    .dataframe tbody tr th {\n",
       "        vertical-align: top;\n",
       "    }\n",
       "\n",
       "    .dataframe thead th {\n",
       "        text-align: right;\n",
       "    }\n",
       "</style>\n",
       "<table border=\"1\" class=\"dataframe\">\n",
       "  <thead>\n",
       "    <tr style=\"text-align: right;\">\n",
       "      <th></th>\n",
       "      <th>cat_age</th>\n",
       "      <th>cat_gender</th>\n",
       "      <th>needs_outdoor</th>\n",
       "      <th>medical_conditions</th>\n",
       "      <th>behavioural_problems</th>\n",
       "      <th>cat_weight</th>\n",
       "      <th>likes_to_explore</th>\n",
       "      <th>playful</th>\n",
       "      <th>vocal</th>\n",
       "      <th>picked_up</th>\n",
       "      <th>...</th>\n",
       "      <th>new_ideas</th>\n",
       "      <th>values_artistic</th>\n",
       "      <th>active_imagination</th>\n",
       "      <th>rude</th>\n",
       "      <th>forgiving</th>\n",
       "      <th>considerate</th>\n",
       "      <th>thorough job</th>\n",
       "      <th>lazy</th>\n",
       "      <th>efficient</th>\n",
       "      <th>satisf_level</th>\n",
       "    </tr>\n",
       "  </thead>\n",
       "  <tbody>\n",
       "    <tr>\n",
       "      <th>0</th>\n",
       "      <td>0.217391</td>\n",
       "      <td>0.0</td>\n",
       "      <td>1.0</td>\n",
       "      <td>1.0</td>\n",
       "      <td>0.0</td>\n",
       "      <td>0.50</td>\n",
       "      <td>0.75</td>\n",
       "      <td>0.75</td>\n",
       "      <td>0.50</td>\n",
       "      <td>0.4</td>\n",
       "      <td>...</td>\n",
       "      <td>0.4</td>\n",
       "      <td>1.0</td>\n",
       "      <td>0.6</td>\n",
       "      <td>0.2</td>\n",
       "      <td>0.8</td>\n",
       "      <td>1.0</td>\n",
       "      <td>0.8</td>\n",
       "      <td>0.8</td>\n",
       "      <td>0.8</td>\n",
       "      <td>1.00</td>\n",
       "    </tr>\n",
       "    <tr>\n",
       "      <th>1</th>\n",
       "      <td>0.043478</td>\n",
       "      <td>1.0</td>\n",
       "      <td>1.0</td>\n",
       "      <td>0.0</td>\n",
       "      <td>0.0</td>\n",
       "      <td>0.50</td>\n",
       "      <td>0.75</td>\n",
       "      <td>0.75</td>\n",
       "      <td>0.00</td>\n",
       "      <td>0.8</td>\n",
       "      <td>...</td>\n",
       "      <td>0.8</td>\n",
       "      <td>0.6</td>\n",
       "      <td>0.8</td>\n",
       "      <td>0.6</td>\n",
       "      <td>1.0</td>\n",
       "      <td>1.0</td>\n",
       "      <td>1.0</td>\n",
       "      <td>0.2</td>\n",
       "      <td>1.0</td>\n",
       "      <td>1.00</td>\n",
       "    </tr>\n",
       "    <tr>\n",
       "      <th>2</th>\n",
       "      <td>0.173913</td>\n",
       "      <td>0.0</td>\n",
       "      <td>0.0</td>\n",
       "      <td>0.0</td>\n",
       "      <td>0.0</td>\n",
       "      <td>0.75</td>\n",
       "      <td>1.00</td>\n",
       "      <td>0.50</td>\n",
       "      <td>0.75</td>\n",
       "      <td>0.4</td>\n",
       "      <td>...</td>\n",
       "      <td>0.6</td>\n",
       "      <td>0.0</td>\n",
       "      <td>0.8</td>\n",
       "      <td>0.0</td>\n",
       "      <td>0.8</td>\n",
       "      <td>0.0</td>\n",
       "      <td>1.0</td>\n",
       "      <td>0.0</td>\n",
       "      <td>0.0</td>\n",
       "      <td>0.85</td>\n",
       "    </tr>\n",
       "    <tr>\n",
       "      <th>3</th>\n",
       "      <td>0.130435</td>\n",
       "      <td>1.0</td>\n",
       "      <td>1.0</td>\n",
       "      <td>0.0</td>\n",
       "      <td>0.0</td>\n",
       "      <td>0.75</td>\n",
       "      <td>0.50</td>\n",
       "      <td>0.75</td>\n",
       "      <td>0.50</td>\n",
       "      <td>1.0</td>\n",
       "      <td>...</td>\n",
       "      <td>0.8</td>\n",
       "      <td>1.0</td>\n",
       "      <td>1.0</td>\n",
       "      <td>0.8</td>\n",
       "      <td>1.0</td>\n",
       "      <td>0.8</td>\n",
       "      <td>0.6</td>\n",
       "      <td>0.8</td>\n",
       "      <td>0.6</td>\n",
       "      <td>1.00</td>\n",
       "    </tr>\n",
       "    <tr>\n",
       "      <th>4</th>\n",
       "      <td>0.086957</td>\n",
       "      <td>1.0</td>\n",
       "      <td>1.0</td>\n",
       "      <td>0.0</td>\n",
       "      <td>0.0</td>\n",
       "      <td>1.00</td>\n",
       "      <td>0.75</td>\n",
       "      <td>0.50</td>\n",
       "      <td>1.00</td>\n",
       "      <td>0.4</td>\n",
       "      <td>...</td>\n",
       "      <td>0.6</td>\n",
       "      <td>0.6</td>\n",
       "      <td>0.6</td>\n",
       "      <td>0.6</td>\n",
       "      <td>0.8</td>\n",
       "      <td>0.8</td>\n",
       "      <td>0.8</td>\n",
       "      <td>0.8</td>\n",
       "      <td>0.8</td>\n",
       "      <td>1.00</td>\n",
       "    </tr>\n",
       "    <tr>\n",
       "      <th>...</th>\n",
       "      <td>...</td>\n",
       "      <td>...</td>\n",
       "      <td>...</td>\n",
       "      <td>...</td>\n",
       "      <td>...</td>\n",
       "      <td>...</td>\n",
       "      <td>...</td>\n",
       "      <td>...</td>\n",
       "      <td>...</td>\n",
       "      <td>...</td>\n",
       "      <td>...</td>\n",
       "      <td>...</td>\n",
       "      <td>...</td>\n",
       "      <td>...</td>\n",
       "      <td>...</td>\n",
       "      <td>...</td>\n",
       "      <td>...</td>\n",
       "      <td>...</td>\n",
       "      <td>...</td>\n",
       "      <td>...</td>\n",
       "      <td>...</td>\n",
       "    </tr>\n",
       "    <tr>\n",
       "      <th>3326</th>\n",
       "      <td>0.478261</td>\n",
       "      <td>1.0</td>\n",
       "      <td>0.0</td>\n",
       "      <td>0.0</td>\n",
       "      <td>0.0</td>\n",
       "      <td>0.50</td>\n",
       "      <td>1.00</td>\n",
       "      <td>1.00</td>\n",
       "      <td>0.50</td>\n",
       "      <td>0.8</td>\n",
       "      <td>...</td>\n",
       "      <td>0.6</td>\n",
       "      <td>0.8</td>\n",
       "      <td>0.6</td>\n",
       "      <td>0.2</td>\n",
       "      <td>1.0</td>\n",
       "      <td>1.0</td>\n",
       "      <td>0.8</td>\n",
       "      <td>0.2</td>\n",
       "      <td>0.8</td>\n",
       "      <td>1.00</td>\n",
       "    </tr>\n",
       "    <tr>\n",
       "      <th>3327</th>\n",
       "      <td>0.260870</td>\n",
       "      <td>0.0</td>\n",
       "      <td>1.0</td>\n",
       "      <td>0.0</td>\n",
       "      <td>0.0</td>\n",
       "      <td>0.50</td>\n",
       "      <td>1.00</td>\n",
       "      <td>0.75</td>\n",
       "      <td>0.50</td>\n",
       "      <td>0.8</td>\n",
       "      <td>...</td>\n",
       "      <td>1.0</td>\n",
       "      <td>1.0</td>\n",
       "      <td>1.0</td>\n",
       "      <td>0.4</td>\n",
       "      <td>1.0</td>\n",
       "      <td>1.0</td>\n",
       "      <td>0.8</td>\n",
       "      <td>0.8</td>\n",
       "      <td>1.0</td>\n",
       "      <td>1.00</td>\n",
       "    </tr>\n",
       "    <tr>\n",
       "      <th>3328</th>\n",
       "      <td>0.130435</td>\n",
       "      <td>0.0</td>\n",
       "      <td>0.0</td>\n",
       "      <td>0.0</td>\n",
       "      <td>0.0</td>\n",
       "      <td>0.50</td>\n",
       "      <td>1.00</td>\n",
       "      <td>1.00</td>\n",
       "      <td>1.00</td>\n",
       "      <td>1.0</td>\n",
       "      <td>...</td>\n",
       "      <td>1.0</td>\n",
       "      <td>1.0</td>\n",
       "      <td>1.0</td>\n",
       "      <td>0.8</td>\n",
       "      <td>1.0</td>\n",
       "      <td>1.0</td>\n",
       "      <td>0.6</td>\n",
       "      <td>1.0</td>\n",
       "      <td>0.8</td>\n",
       "      <td>1.00</td>\n",
       "    </tr>\n",
       "    <tr>\n",
       "      <th>3329</th>\n",
       "      <td>0.000000</td>\n",
       "      <td>0.0</td>\n",
       "      <td>0.0</td>\n",
       "      <td>0.0</td>\n",
       "      <td>0.0</td>\n",
       "      <td>0.50</td>\n",
       "      <td>0.75</td>\n",
       "      <td>1.00</td>\n",
       "      <td>0.50</td>\n",
       "      <td>1.0</td>\n",
       "      <td>...</td>\n",
       "      <td>0.6</td>\n",
       "      <td>1.0</td>\n",
       "      <td>0.8</td>\n",
       "      <td>0.8</td>\n",
       "      <td>0.2</td>\n",
       "      <td>1.0</td>\n",
       "      <td>1.0</td>\n",
       "      <td>0.4</td>\n",
       "      <td>1.0</td>\n",
       "      <td>1.00</td>\n",
       "    </tr>\n",
       "    <tr>\n",
       "      <th>3330</th>\n",
       "      <td>0.086957</td>\n",
       "      <td>0.0</td>\n",
       "      <td>0.0</td>\n",
       "      <td>0.0</td>\n",
       "      <td>0.0</td>\n",
       "      <td>0.50</td>\n",
       "      <td>0.75</td>\n",
       "      <td>0.75</td>\n",
       "      <td>0.75</td>\n",
       "      <td>1.0</td>\n",
       "      <td>...</td>\n",
       "      <td>0.6</td>\n",
       "      <td>0.6</td>\n",
       "      <td>0.6</td>\n",
       "      <td>0.6</td>\n",
       "      <td>0.8</td>\n",
       "      <td>0.6</td>\n",
       "      <td>0.8</td>\n",
       "      <td>0.8</td>\n",
       "      <td>0.8</td>\n",
       "      <td>1.00</td>\n",
       "    </tr>\n",
       "  </tbody>\n",
       "</table>\n",
       "<p>3331 rows × 39 columns</p>\n",
       "</div>"
      ],
      "text/plain": [
       "       cat_age  cat_gender  needs_outdoor  medical_conditions  \\\n",
       "0     0.217391         0.0            1.0                 1.0   \n",
       "1     0.043478         1.0            1.0                 0.0   \n",
       "2     0.173913         0.0            0.0                 0.0   \n",
       "3     0.130435         1.0            1.0                 0.0   \n",
       "4     0.086957         1.0            1.0                 0.0   \n",
       "...        ...         ...            ...                 ...   \n",
       "3326  0.478261         1.0            0.0                 0.0   \n",
       "3327  0.260870         0.0            1.0                 0.0   \n",
       "3328  0.130435         0.0            0.0                 0.0   \n",
       "3329  0.000000         0.0            0.0                 0.0   \n",
       "3330  0.086957         0.0            0.0                 0.0   \n",
       "\n",
       "      behavioural_problems  cat_weight  likes_to_explore  playful  vocal  \\\n",
       "0                      0.0        0.50              0.75     0.75   0.50   \n",
       "1                      0.0        0.50              0.75     0.75   0.00   \n",
       "2                      0.0        0.75              1.00     0.50   0.75   \n",
       "3                      0.0        0.75              0.50     0.75   0.50   \n",
       "4                      0.0        1.00              0.75     0.50   1.00   \n",
       "...                    ...         ...               ...      ...    ...   \n",
       "3326                   0.0        0.50              1.00     1.00   0.50   \n",
       "3327                   0.0        0.50              1.00     0.75   0.50   \n",
       "3328                   0.0        0.50              1.00     1.00   1.00   \n",
       "3329                   0.0        0.50              0.75     1.00   0.50   \n",
       "3330                   0.0        0.50              0.75     0.75   0.75   \n",
       "\n",
       "      picked_up  ...  new_ideas  values_artistic  active_imagination  rude  \\\n",
       "0           0.4  ...        0.4              1.0                 0.6   0.2   \n",
       "1           0.8  ...        0.8              0.6                 0.8   0.6   \n",
       "2           0.4  ...        0.6              0.0                 0.8   0.0   \n",
       "3           1.0  ...        0.8              1.0                 1.0   0.8   \n",
       "4           0.4  ...        0.6              0.6                 0.6   0.6   \n",
       "...         ...  ...        ...              ...                 ...   ...   \n",
       "3326        0.8  ...        0.6              0.8                 0.6   0.2   \n",
       "3327        0.8  ...        1.0              1.0                 1.0   0.4   \n",
       "3328        1.0  ...        1.0              1.0                 1.0   0.8   \n",
       "3329        1.0  ...        0.6              1.0                 0.8   0.8   \n",
       "3330        1.0  ...        0.6              0.6                 0.6   0.6   \n",
       "\n",
       "      forgiving  considerate  thorough job  lazy efficient  satisf_level  \n",
       "0           0.8          1.0           0.8   0.8       0.8          1.00  \n",
       "1           1.0          1.0           1.0   0.2       1.0          1.00  \n",
       "2           0.8          0.0           1.0   0.0       0.0          0.85  \n",
       "3           1.0          0.8           0.6   0.8       0.6          1.00  \n",
       "4           0.8          0.8           0.8   0.8       0.8          1.00  \n",
       "...         ...          ...           ...   ...       ...           ...  \n",
       "3326        1.0          1.0           0.8   0.2       0.8          1.00  \n",
       "3327        1.0          1.0           0.8   0.8       1.0          1.00  \n",
       "3328        1.0          1.0           0.6   1.0       0.8          1.00  \n",
       "3329        0.2          1.0           1.0   0.4       1.0          1.00  \n",
       "3330        0.8          0.6           0.8   0.8       0.8          1.00  \n",
       "\n",
       "[3331 rows x 39 columns]"
      ]
     },
     "execution_count": 37,
     "metadata": {},
     "output_type": "execute_result"
    }
   ],
   "source": [
    "df_scaled"
   ]
  },
  {
   "cell_type": "markdown",
   "id": "nYS_SGl6wENQ",
   "metadata": {
    "id": "nYS_SGl6wENQ"
   },
   "source": [
    "# Fitting the model\n",
    "\n",
    "........."
   ]
  },
  {
   "cell_type": "code",
   "execution_count": 61,
   "id": "_A6KtP7dwJ04",
   "metadata": {
    "id": "_A6KtP7dwJ04"
   },
   "outputs": [],
   "source": [
    "%matplotlib notebook\n",
    "import numpy as np\n",
    "import matplotlib.pyplot as plt\n",
    "import pandas as pd\n",
    "from sklearn.neighbors import KNeighborsRegressor\n",
    "from sklearn.model_selection import train_test_split"
   ]
  },
  {
   "cell_type": "code",
   "execution_count": 62,
   "id": "23a48baa-32f4-46ad-b5bd-eba05b83cd12",
   "metadata": {},
   "outputs": [],
   "source": [
    "df_scaled.fillna(0, inplace=True)"
   ]
  },
  {
   "cell_type": "code",
   "execution_count": 63,
   "id": "387b171e-6fac-45fb-babf-75960ee4dce9",
   "metadata": {},
   "outputs": [],
   "source": [
    "X= df_scaled[[\"behavioural_problems\", \"rude\"]]\n",
    "y= df_scaled[[\"satisf_level\"]]\n",
    "\n",
    "X_train, X_test, y_train, y_test = train_test_split(X,y, random_state=0)\n",
    "             "
   ]
  },
  {
   "cell_type": "code",
   "execution_count": 64,
   "id": "3de71d87-158c-4eb0-bc4f-bef057d679c1",
   "metadata": {},
   "outputs": [],
   "source": [
    "knr = KNeighborsRegressor()"
   ]
  },
  {
   "cell_type": "code",
   "execution_count": 65,
   "id": "4419fef7-c8a2-41e6-8d31-527771d69993",
   "metadata": {},
   "outputs": [],
   "source": [
    "scaler = MinMaxScaler()\n",
    "X_train_scaled = scaler.fit_transform(X_train)\n",
    "# we must apply the scaling to the test set that we computed for the training set\n",
    "X_test_scaled = scaler.transform(X_test)"
   ]
  },
  {
   "cell_type": "code",
   "execution_count": 66,
   "id": "1ca8ee35-4c11-4623-8d9d-8849893a035a",
   "metadata": {},
   "outputs": [
    {
     "data": {
      "text/plain": [
       "KNeighborsRegressor()"
      ]
     },
     "execution_count": 66,
     "metadata": {},
     "output_type": "execute_result"
    }
   ],
   "source": [
    "knr.fit(X_train, y_train)"
   ]
  },
  {
   "cell_type": "code",
   "execution_count": 68,
   "id": "e3234293-5cb5-4879-806b-5ae0fb347d35",
   "metadata": {},
   "outputs": [
    {
     "name": "stderr",
     "output_type": "stream",
     "text": [
      "/home/omaistat/anaconda3/lib/python3.8/site-packages/sklearn/base.py:445: UserWarning: X does not have valid feature names, but KNeighborsRegressor was fitted with feature names\n",
      "  warnings.warn(\n"
     ]
    },
    {
     "data": {
      "text/plain": [
       "0.2110770642276324"
      ]
     },
     "execution_count": 68,
     "metadata": {},
     "output_type": "execute_result"
    }
   ],
   "source": [
    "knr.score(X_test_scaled, y_test)"
   ]
  }
 ],
 "metadata": {
  "colab": {
   "collapsed_sections": [],
   "name": "Cleaned questionnaire 08.01.ipynb",
   "provenance": []
  },
  "kernelspec": {
   "display_name": "Python 3 (ipykernel)",
   "language": "python",
   "name": "python3"
  },
  "language_info": {
   "codemirror_mode": {
    "name": "ipython",
    "version": 3
   },
   "file_extension": ".py",
   "mimetype": "text/x-python",
   "name": "python",
   "nbconvert_exporter": "python",
   "pygments_lexer": "ipython3",
   "version": "3.8.12"
  }
 },
 "nbformat": 4,
 "nbformat_minor": 5
}
